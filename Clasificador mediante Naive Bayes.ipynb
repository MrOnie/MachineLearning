{
 "cells": [
  {
   "cell_type": "markdown",
   "metadata": {},
   "source": [
    "# Clasificador mediante Naive Bayes\n",
    "## Autor: Ronie Martínez\n",
    "\n",
    "#### Trabajo presentado como actividad propuesta para la asignatura \"Aprendizaje Automático\"\n",
    "\n",
    "## Objetivo\n",
    "\n",
    "Aplicar al conjunto de datos proporcionado el clasificador de Naive Bayes. Los datos se proporcionan en formato csv.\n",
    "\n",
    "## Información sobre los datos\n",
    "El enlace: https://archive.ics.uci.edu/ml/datasets/congressional+voting+records contiene la información necesaria sobre los datos, la variable respuesta es “Class name”.\n",
    "Los datos tratan información relacionada con el voto en las elecciones americanas.\n",
    "\n",
    "## Pasos a seguir (orientativo):\n",
    "\n",
    "- Análisis descriptivo de los datos\n",
    "- Determinar el conjunto de modelización y el de validación\n",
    "- Tratamiento de missing\n",
    "- Calcular las métricas de evaluación de ajuste adecuadas\n",
    "- Comentar los resultados obtenidos\n",
    "- Otros comentarios que parezcan adecuados"
   ]
  },
  {
   "cell_type": "markdown",
   "metadata": {},
   "source": [
    "## Desarrollo:\n",
    "\n",
    "\n",
    "### - Importamos el dataset y lo visualizamos"
   ]
  },
  {
   "cell_type": "code",
   "execution_count": 1,
   "metadata": {
    "scrolled": true
   },
   "outputs": [
    {
     "data": {
      "text/html": [
       "<div>\n",
       "<style scoped>\n",
       "    .dataframe tbody tr th:only-of-type {\n",
       "        vertical-align: middle;\n",
       "    }\n",
       "\n",
       "    .dataframe tbody tr th {\n",
       "        vertical-align: top;\n",
       "    }\n",
       "\n",
       "    .dataframe thead th {\n",
       "        text-align: right;\n",
       "    }\n",
       "</style>\n",
       "<table border=\"1\" class=\"dataframe\">\n",
       "  <thead>\n",
       "    <tr style=\"text-align: right;\">\n",
       "      <th></th>\n",
       "      <th>class-name</th>\n",
       "      <th>handicapped-infants</th>\n",
       "      <th>water-project-cost-sharing</th>\n",
       "      <th>adoption-of-the-budget-resolution</th>\n",
       "      <th>physician-fee-freeze</th>\n",
       "      <th>el-salvador-aid</th>\n",
       "      <th>religious-groups-in-schools</th>\n",
       "      <th>anti-satellite-test-ban</th>\n",
       "      <th>aid-to-nicaraguan-contras</th>\n",
       "      <th>mx-missile</th>\n",
       "      <th>immigration</th>\n",
       "      <th>synfuels-corporation-cutback</th>\n",
       "      <th>education-spending</th>\n",
       "      <th>superfund-right-to-sue</th>\n",
       "      <th>crime</th>\n",
       "      <th>duty-free-exports</th>\n",
       "      <th>export-administration-act-south-africa</th>\n",
       "    </tr>\n",
       "  </thead>\n",
       "  <tbody>\n",
       "    <tr>\n",
       "      <th>0</th>\n",
       "      <td>republican</td>\n",
       "      <td>n</td>\n",
       "      <td>y</td>\n",
       "      <td>n</td>\n",
       "      <td>y</td>\n",
       "      <td>y</td>\n",
       "      <td>y</td>\n",
       "      <td>n</td>\n",
       "      <td>n</td>\n",
       "      <td>n</td>\n",
       "      <td>y</td>\n",
       "      <td>?</td>\n",
       "      <td>y</td>\n",
       "      <td>y</td>\n",
       "      <td>y</td>\n",
       "      <td>n</td>\n",
       "      <td>y</td>\n",
       "    </tr>\n",
       "    <tr>\n",
       "      <th>1</th>\n",
       "      <td>republican</td>\n",
       "      <td>n</td>\n",
       "      <td>y</td>\n",
       "      <td>n</td>\n",
       "      <td>y</td>\n",
       "      <td>y</td>\n",
       "      <td>y</td>\n",
       "      <td>n</td>\n",
       "      <td>n</td>\n",
       "      <td>n</td>\n",
       "      <td>n</td>\n",
       "      <td>n</td>\n",
       "      <td>y</td>\n",
       "      <td>y</td>\n",
       "      <td>y</td>\n",
       "      <td>n</td>\n",
       "      <td>?</td>\n",
       "    </tr>\n",
       "    <tr>\n",
       "      <th>2</th>\n",
       "      <td>democrat</td>\n",
       "      <td>?</td>\n",
       "      <td>y</td>\n",
       "      <td>y</td>\n",
       "      <td>?</td>\n",
       "      <td>y</td>\n",
       "      <td>y</td>\n",
       "      <td>n</td>\n",
       "      <td>n</td>\n",
       "      <td>n</td>\n",
       "      <td>n</td>\n",
       "      <td>y</td>\n",
       "      <td>n</td>\n",
       "      <td>y</td>\n",
       "      <td>y</td>\n",
       "      <td>n</td>\n",
       "      <td>n</td>\n",
       "    </tr>\n",
       "    <tr>\n",
       "      <th>3</th>\n",
       "      <td>democrat</td>\n",
       "      <td>n</td>\n",
       "      <td>y</td>\n",
       "      <td>y</td>\n",
       "      <td>n</td>\n",
       "      <td>?</td>\n",
       "      <td>y</td>\n",
       "      <td>n</td>\n",
       "      <td>n</td>\n",
       "      <td>n</td>\n",
       "      <td>n</td>\n",
       "      <td>y</td>\n",
       "      <td>n</td>\n",
       "      <td>y</td>\n",
       "      <td>n</td>\n",
       "      <td>n</td>\n",
       "      <td>y</td>\n",
       "    </tr>\n",
       "    <tr>\n",
       "      <th>4</th>\n",
       "      <td>democrat</td>\n",
       "      <td>y</td>\n",
       "      <td>y</td>\n",
       "      <td>y</td>\n",
       "      <td>n</td>\n",
       "      <td>y</td>\n",
       "      <td>y</td>\n",
       "      <td>n</td>\n",
       "      <td>n</td>\n",
       "      <td>n</td>\n",
       "      <td>n</td>\n",
       "      <td>y</td>\n",
       "      <td>?</td>\n",
       "      <td>y</td>\n",
       "      <td>y</td>\n",
       "      <td>y</td>\n",
       "      <td>y</td>\n",
       "    </tr>\n",
       "  </tbody>\n",
       "</table>\n",
       "</div>"
      ],
      "text/plain": [
       "   class-name handicapped-infants water-project-cost-sharing  \\\n",
       "0  republican                   n                          y   \n",
       "1  republican                   n                          y   \n",
       "2    democrat                   ?                          y   \n",
       "3    democrat                   n                          y   \n",
       "4    democrat                   y                          y   \n",
       "\n",
       "  adoption-of-the-budget-resolution physician-fee-freeze el-salvador-aid  \\\n",
       "0                                 n                    y               y   \n",
       "1                                 n                    y               y   \n",
       "2                                 y                    ?               y   \n",
       "3                                 y                    n               ?   \n",
       "4                                 y                    n               y   \n",
       "\n",
       "  religious-groups-in-schools anti-satellite-test-ban  \\\n",
       "0                           y                       n   \n",
       "1                           y                       n   \n",
       "2                           y                       n   \n",
       "3                           y                       n   \n",
       "4                           y                       n   \n",
       "\n",
       "  aid-to-nicaraguan-contras mx-missile immigration  \\\n",
       "0                         n          n           y   \n",
       "1                         n          n           n   \n",
       "2                         n          n           n   \n",
       "3                         n          n           n   \n",
       "4                         n          n           n   \n",
       "\n",
       "  synfuels-corporation-cutback education-spending superfund-right-to-sue  \\\n",
       "0                            ?                  y                      y   \n",
       "1                            n                  y                      y   \n",
       "2                            y                  n                      y   \n",
       "3                            y                  n                      y   \n",
       "4                            y                  ?                      y   \n",
       "\n",
       "  crime duty-free-exports export-administration-act-south-africa  \n",
       "0     y                 n                                      y  \n",
       "1     y                 n                                      ?  \n",
       "2     y                 n                                      n  \n",
       "3     n                 n                                      y  \n",
       "4     y                 y                                      y  "
      ]
     },
     "metadata": {},
     "output_type": "display_data"
    }
   ],
   "source": [
    "import numpy as np\n",
    "import pandas as pd\n",
    "\n",
    "nombre_csv = 'house-votes-84.data.csv'\n",
    "column_names = ['class-name', \n",
    "                'handicapped-infants', \n",
    "                'water-project-cost-sharing', \n",
    "                'adoption-of-the-budget-resolution', \n",
    "                'physician-fee-freeze', \n",
    "                'el-salvador-aid', \n",
    "                'religious-groups-in-schools', \n",
    "                'anti-satellite-test-ban', \n",
    "                'aid-to-nicaraguan-contras', \n",
    "                'mx-missile', \n",
    "                'immigration', \n",
    "                'synfuels-corporation-cutback', \n",
    "                'education-spending', \n",
    "                'superfund-right-to-sue', \n",
    "                'crime', \n",
    "                'duty-free-exports', \n",
    "                'export-administration-act-south-africa']\n",
    "\n",
    "# Creamos nuestro dataframe con la información proporcionada\n",
    "raw_data = pd.read_csv(nombre_csv, names=column_names)#, na_values='?')\n",
    "# na_values='?' para definir estos valores como NaN en caso de querer eliminarlos\n",
    "\n",
    "# Función display solo funciona en jupyter notebook!\n",
    "display(raw_data.head()) #435x17"
   ]
  },
  {
   "cell_type": "markdown",
   "metadata": {},
   "source": [
    "### - Análisis descriptivo de los datos"
   ]
  },
  {
   "cell_type": "markdown",
   "metadata": {},
   "source": [
    "El _dataset_ proporcionado incluye los votos (en el año 1984) de los 435 miembros de la Cámara de Representantes de Estados Unidos sobre los 16 planteamientos identificados por el CQA (_Congressional Quarterly Almanac_). \n",
    "\n",
    "El CQA define nueve diferentes tipos de votos, los cuales se clasifican de la siguiente manera:\n",
    "- **'y/yea'**: voted for, paired for, and announced for\n",
    "- **'n/nay'**:voted against, paired against, and announced against\n",
    "- **'?'**: voted present, voted present to avoid conflict of interest, and did not vote or otherwise make a position known"
   ]
  },
  {
   "cell_type": "markdown",
   "metadata": {},
   "source": [
    "A continuación se presenta un breve resumen de los datos:"
   ]
  },
  {
   "cell_type": "code",
   "execution_count": 2,
   "metadata": {},
   "outputs": [
    {
     "data": {
      "text/html": [
       "<div>\n",
       "<style scoped>\n",
       "    .dataframe tbody tr th:only-of-type {\n",
       "        vertical-align: middle;\n",
       "    }\n",
       "\n",
       "    .dataframe tbody tr th {\n",
       "        vertical-align: top;\n",
       "    }\n",
       "\n",
       "    .dataframe thead th {\n",
       "        text-align: right;\n",
       "    }\n",
       "</style>\n",
       "<table border=\"1\" class=\"dataframe\">\n",
       "  <thead>\n",
       "    <tr style=\"text-align: right;\">\n",
       "      <th></th>\n",
       "      <th>count</th>\n",
       "      <th>unique</th>\n",
       "      <th>top</th>\n",
       "      <th>freq</th>\n",
       "    </tr>\n",
       "  </thead>\n",
       "  <tbody>\n",
       "    <tr>\n",
       "      <th>class-name</th>\n",
       "      <td>435</td>\n",
       "      <td>2</td>\n",
       "      <td>democrat</td>\n",
       "      <td>267</td>\n",
       "    </tr>\n",
       "    <tr>\n",
       "      <th>handicapped-infants</th>\n",
       "      <td>435</td>\n",
       "      <td>3</td>\n",
       "      <td>n</td>\n",
       "      <td>236</td>\n",
       "    </tr>\n",
       "    <tr>\n",
       "      <th>water-project-cost-sharing</th>\n",
       "      <td>435</td>\n",
       "      <td>3</td>\n",
       "      <td>y</td>\n",
       "      <td>195</td>\n",
       "    </tr>\n",
       "    <tr>\n",
       "      <th>adoption-of-the-budget-resolution</th>\n",
       "      <td>435</td>\n",
       "      <td>3</td>\n",
       "      <td>y</td>\n",
       "      <td>253</td>\n",
       "    </tr>\n",
       "    <tr>\n",
       "      <th>physician-fee-freeze</th>\n",
       "      <td>435</td>\n",
       "      <td>3</td>\n",
       "      <td>n</td>\n",
       "      <td>247</td>\n",
       "    </tr>\n",
       "    <tr>\n",
       "      <th>el-salvador-aid</th>\n",
       "      <td>435</td>\n",
       "      <td>3</td>\n",
       "      <td>y</td>\n",
       "      <td>212</td>\n",
       "    </tr>\n",
       "    <tr>\n",
       "      <th>religious-groups-in-schools</th>\n",
       "      <td>435</td>\n",
       "      <td>3</td>\n",
       "      <td>y</td>\n",
       "      <td>272</td>\n",
       "    </tr>\n",
       "    <tr>\n",
       "      <th>anti-satellite-test-ban</th>\n",
       "      <td>435</td>\n",
       "      <td>3</td>\n",
       "      <td>y</td>\n",
       "      <td>239</td>\n",
       "    </tr>\n",
       "    <tr>\n",
       "      <th>aid-to-nicaraguan-contras</th>\n",
       "      <td>435</td>\n",
       "      <td>3</td>\n",
       "      <td>y</td>\n",
       "      <td>242</td>\n",
       "    </tr>\n",
       "    <tr>\n",
       "      <th>mx-missile</th>\n",
       "      <td>435</td>\n",
       "      <td>3</td>\n",
       "      <td>y</td>\n",
       "      <td>207</td>\n",
       "    </tr>\n",
       "    <tr>\n",
       "      <th>immigration</th>\n",
       "      <td>435</td>\n",
       "      <td>3</td>\n",
       "      <td>y</td>\n",
       "      <td>216</td>\n",
       "    </tr>\n",
       "    <tr>\n",
       "      <th>synfuels-corporation-cutback</th>\n",
       "      <td>435</td>\n",
       "      <td>3</td>\n",
       "      <td>n</td>\n",
       "      <td>264</td>\n",
       "    </tr>\n",
       "    <tr>\n",
       "      <th>education-spending</th>\n",
       "      <td>435</td>\n",
       "      <td>3</td>\n",
       "      <td>n</td>\n",
       "      <td>233</td>\n",
       "    </tr>\n",
       "    <tr>\n",
       "      <th>superfund-right-to-sue</th>\n",
       "      <td>435</td>\n",
       "      <td>3</td>\n",
       "      <td>y</td>\n",
       "      <td>209</td>\n",
       "    </tr>\n",
       "    <tr>\n",
       "      <th>crime</th>\n",
       "      <td>435</td>\n",
       "      <td>3</td>\n",
       "      <td>y</td>\n",
       "      <td>248</td>\n",
       "    </tr>\n",
       "    <tr>\n",
       "      <th>duty-free-exports</th>\n",
       "      <td>435</td>\n",
       "      <td>3</td>\n",
       "      <td>n</td>\n",
       "      <td>233</td>\n",
       "    </tr>\n",
       "    <tr>\n",
       "      <th>export-administration-act-south-africa</th>\n",
       "      <td>435</td>\n",
       "      <td>3</td>\n",
       "      <td>y</td>\n",
       "      <td>269</td>\n",
       "    </tr>\n",
       "  </tbody>\n",
       "</table>\n",
       "</div>"
      ],
      "text/plain": [
       "                                       count unique       top freq\n",
       "class-name                               435      2  democrat  267\n",
       "handicapped-infants                      435      3         n  236\n",
       "water-project-cost-sharing               435      3         y  195\n",
       "adoption-of-the-budget-resolution        435      3         y  253\n",
       "physician-fee-freeze                     435      3         n  247\n",
       "el-salvador-aid                          435      3         y  212\n",
       "religious-groups-in-schools              435      3         y  272\n",
       "anti-satellite-test-ban                  435      3         y  239\n",
       "aid-to-nicaraguan-contras                435      3         y  242\n",
       "mx-missile                               435      3         y  207\n",
       "immigration                              435      3         y  216\n",
       "synfuels-corporation-cutback             435      3         n  264\n",
       "education-spending                       435      3         n  233\n",
       "superfund-right-to-sue                   435      3         y  209\n",
       "crime                                    435      3         y  248\n",
       "duty-free-exports                        435      3         n  233\n",
       "export-administration-act-south-africa   435      3         y  269"
      ]
     },
     "metadata": {},
     "output_type": "display_data"
    }
   ],
   "source": [
    "# Creamos una copia del dataset original, para trabajar\n",
    "dataset = raw_data.copy()\n",
    "\n",
    "# Usamos la función describe() para el resumen del dataframe\n",
    "stats = dataset.describe()\n",
    "stats = stats.transpose()\n",
    "display(stats)"
   ]
  },
  {
   "cell_type": "markdown",
   "metadata": {},
   "source": [
    "### - Tratamiento de missing"
   ]
  },
  {
   "cell_type": "markdown",
   "metadata": {},
   "source": [
    "Muchas veces, la solución ante valores desconocidos, sería eliminarlos (usando la función dropna()) y proceder a realizar el procesamiento normalmente. Sin embargo, en este escenario, si decidimos realizar esta acción, estaríamos perdiendo más del 50% de los datos recolectados. Además, y gracias a la especificación incluida en el dataset, podemos asumir la siguiente postura:\n",
    "\n",
    "\"Es importante identificar que el valor '?' en el dataset **no** significa que el valor del atributo es desconocido, sino que no es un valor 'y/yea' ni 'n/nay'.\" Es decir, se puede tomar como un tercer valor para el análisis correspondiente.\n",
    "\n",
    "Ahora, si bien se podrían utilizar términos estadísticos relativos a la tendencia (ej. media, moda) o incluso valores aleatorios, se decidió finalmente por definir los datos de la siguiente manera:\n",
    "\n",
    "'n' = 0.0\n",
    "\n",
    "'y' = 1.0\n",
    "\n",
    "'?' = 0.5\n",
    "\n",
    "Estas relaciones pueden ser permutadas indistintamente (ej. 'n'=0.5, 'y'=0.0, '?'=1.0).\n",
    "Siendo estos valores equidistantes y normalizados, por lo que se espera que su definición sea óptima para la ejecución del clasificador Naive Bayes."
   ]
  },
  {
   "cell_type": "code",
   "execution_count": 3,
   "metadata": {},
   "outputs": [
    {
     "data": {
      "text/html": [
       "<div>\n",
       "<style scoped>\n",
       "    .dataframe tbody tr th:only-of-type {\n",
       "        vertical-align: middle;\n",
       "    }\n",
       "\n",
       "    .dataframe tbody tr th {\n",
       "        vertical-align: top;\n",
       "    }\n",
       "\n",
       "    .dataframe thead th {\n",
       "        text-align: right;\n",
       "    }\n",
       "</style>\n",
       "<table border=\"1\" class=\"dataframe\">\n",
       "  <thead>\n",
       "    <tr style=\"text-align: right;\">\n",
       "      <th></th>\n",
       "      <th>class-name</th>\n",
       "      <th>handicapped-infants</th>\n",
       "      <th>water-project-cost-sharing</th>\n",
       "      <th>adoption-of-the-budget-resolution</th>\n",
       "      <th>physician-fee-freeze</th>\n",
       "      <th>el-salvador-aid</th>\n",
       "      <th>religious-groups-in-schools</th>\n",
       "      <th>anti-satellite-test-ban</th>\n",
       "      <th>aid-to-nicaraguan-contras</th>\n",
       "      <th>mx-missile</th>\n",
       "      <th>immigration</th>\n",
       "      <th>synfuels-corporation-cutback</th>\n",
       "      <th>education-spending</th>\n",
       "      <th>superfund-right-to-sue</th>\n",
       "      <th>crime</th>\n",
       "      <th>duty-free-exports</th>\n",
       "      <th>export-administration-act-south-africa</th>\n",
       "    </tr>\n",
       "  </thead>\n",
       "  <tbody>\n",
       "    <tr>\n",
       "      <th>0</th>\n",
       "      <td>republican</td>\n",
       "      <td>0</td>\n",
       "      <td>1</td>\n",
       "      <td>0</td>\n",
       "      <td>1</td>\n",
       "      <td>1</td>\n",
       "      <td>1</td>\n",
       "      <td>0</td>\n",
       "      <td>0</td>\n",
       "      <td>0</td>\n",
       "      <td>1</td>\n",
       "      <td>0.5</td>\n",
       "      <td>1</td>\n",
       "      <td>1</td>\n",
       "      <td>1</td>\n",
       "      <td>0</td>\n",
       "      <td>1</td>\n",
       "    </tr>\n",
       "    <tr>\n",
       "      <th>1</th>\n",
       "      <td>republican</td>\n",
       "      <td>0</td>\n",
       "      <td>1</td>\n",
       "      <td>0</td>\n",
       "      <td>1</td>\n",
       "      <td>1</td>\n",
       "      <td>1</td>\n",
       "      <td>0</td>\n",
       "      <td>0</td>\n",
       "      <td>0</td>\n",
       "      <td>0</td>\n",
       "      <td>0</td>\n",
       "      <td>1</td>\n",
       "      <td>1</td>\n",
       "      <td>1</td>\n",
       "      <td>0</td>\n",
       "      <td>0.5</td>\n",
       "    </tr>\n",
       "    <tr>\n",
       "      <th>2</th>\n",
       "      <td>democrat</td>\n",
       "      <td>0.5</td>\n",
       "      <td>1</td>\n",
       "      <td>1</td>\n",
       "      <td>0.5</td>\n",
       "      <td>1</td>\n",
       "      <td>1</td>\n",
       "      <td>0</td>\n",
       "      <td>0</td>\n",
       "      <td>0</td>\n",
       "      <td>0</td>\n",
       "      <td>1</td>\n",
       "      <td>0</td>\n",
       "      <td>1</td>\n",
       "      <td>1</td>\n",
       "      <td>0</td>\n",
       "      <td>0</td>\n",
       "    </tr>\n",
       "    <tr>\n",
       "      <th>3</th>\n",
       "      <td>democrat</td>\n",
       "      <td>0</td>\n",
       "      <td>1</td>\n",
       "      <td>1</td>\n",
       "      <td>0</td>\n",
       "      <td>0.5</td>\n",
       "      <td>1</td>\n",
       "      <td>0</td>\n",
       "      <td>0</td>\n",
       "      <td>0</td>\n",
       "      <td>0</td>\n",
       "      <td>1</td>\n",
       "      <td>0</td>\n",
       "      <td>1</td>\n",
       "      <td>0</td>\n",
       "      <td>0</td>\n",
       "      <td>1</td>\n",
       "    </tr>\n",
       "    <tr>\n",
       "      <th>4</th>\n",
       "      <td>democrat</td>\n",
       "      <td>1</td>\n",
       "      <td>1</td>\n",
       "      <td>1</td>\n",
       "      <td>0</td>\n",
       "      <td>1</td>\n",
       "      <td>1</td>\n",
       "      <td>0</td>\n",
       "      <td>0</td>\n",
       "      <td>0</td>\n",
       "      <td>0</td>\n",
       "      <td>1</td>\n",
       "      <td>0.5</td>\n",
       "      <td>1</td>\n",
       "      <td>1</td>\n",
       "      <td>1</td>\n",
       "      <td>1</td>\n",
       "    </tr>\n",
       "  </tbody>\n",
       "</table>\n",
       "</div>"
      ],
      "text/plain": [
       "   class-name handicapped-infants water-project-cost-sharing  \\\n",
       "0  republican                   0                          1   \n",
       "1  republican                   0                          1   \n",
       "2    democrat                 0.5                          1   \n",
       "3    democrat                   0                          1   \n",
       "4    democrat                   1                          1   \n",
       "\n",
       "  adoption-of-the-budget-resolution physician-fee-freeze el-salvador-aid  \\\n",
       "0                                 0                    1               1   \n",
       "1                                 0                    1               1   \n",
       "2                                 1                  0.5               1   \n",
       "3                                 1                    0             0.5   \n",
       "4                                 1                    0               1   \n",
       "\n",
       "  religious-groups-in-schools anti-satellite-test-ban  \\\n",
       "0                           1                       0   \n",
       "1                           1                       0   \n",
       "2                           1                       0   \n",
       "3                           1                       0   \n",
       "4                           1                       0   \n",
       "\n",
       "  aid-to-nicaraguan-contras mx-missile immigration  \\\n",
       "0                         0          0           1   \n",
       "1                         0          0           0   \n",
       "2                         0          0           0   \n",
       "3                         0          0           0   \n",
       "4                         0          0           0   \n",
       "\n",
       "  synfuels-corporation-cutback education-spending superfund-right-to-sue  \\\n",
       "0                          0.5                  1                      1   \n",
       "1                            0                  1                      1   \n",
       "2                            1                  0                      1   \n",
       "3                            1                  0                      1   \n",
       "4                            1                0.5                      1   \n",
       "\n",
       "  crime duty-free-exports export-administration-act-south-africa  \n",
       "0     1                 0                                      1  \n",
       "1     1                 0                                    0.5  \n",
       "2     1                 0                                      0  \n",
       "3     0                 0                                      1  \n",
       "4     1                 1                                      1  "
      ]
     },
     "metadata": {},
     "output_type": "display_data"
    }
   ],
   "source": [
    "dataset[dataset=='n']=0.0\n",
    "dataset[dataset=='y']=1.0\n",
    "dataset[dataset=='?']=0.5\n",
    "display(dataset.head())"
   ]
  },
  {
   "cell_type": "markdown",
   "metadata": {},
   "source": [
    "### - Determinar el conjunto de modelización y el de validación"
   ]
  },
  {
   "cell_type": "markdown",
   "metadata": {},
   "source": [
    "Para realizar el proceso de _hold-out_ (división entre train set y test set), es recomendable realizarlo de manera aleatoria debido a que se desconoce la naturaleza de la obtención de los datos."
   ]
  },
  {
   "cell_type": "code",
   "execution_count": 4,
   "metadata": {},
   "outputs": [
    {
     "name": "stdout",
     "output_type": "stream",
     "text": [
      "Train dataset shape:  (348, 17)\n",
      "Test dataset shape:  (87, 17)\n"
     ]
    }
   ],
   "source": [
    "# Hold-out (train and test)\n",
    "#from sklearn.model_selection import train_test_split\n",
    "train_dataset = dataset.sample(frac=0.8, random_state=0) #aleatorio\n",
    "test_dataset = dataset.drop(train_dataset.index)\n",
    "print(\"Train dataset shape: \",train_dataset.shape)\n",
    "print(\"Test dataset shape: \",test_dataset.shape)\n",
    "# También se puede hacer uso de la función train_test_split()\n",
    "# from sklearn.model_selection import train_test_split\n",
    "\n",
    "# Separación de la columna \"resultado\"\n",
    "train_labels = train_dataset.pop('class-name')\n",
    "test_labels = test_dataset.pop('class-name')"
   ]
  },
  {
   "cell_type": "markdown",
   "metadata": {},
   "source": [
    "La relación de división entre train y test es de 80% - 20%. Se realizó el procedimiento también con una relación de 70% - 30%, pero no hubo mayor diferencia (máximo 1% de diferencia en las métricas obtenidas a continuación)."
   ]
  },
  {
   "cell_type": "markdown",
   "metadata": {},
   "source": [
    "### - Calcular las métricas de evaluación de ajuste adecuadas"
   ]
  },
  {
   "cell_type": "markdown",
   "metadata": {},
   "source": [
    "Para esto, definimos qué modelo de Naive Bayes vamos a utilizar. Tenemos tres opciones."
   ]
  },
  {
   "cell_type": "code",
   "execution_count": 5,
   "metadata": {},
   "outputs": [],
   "source": [
    "# Importamos las librerías necesarias que contienen los modelos\n",
    "from sklearn.naive_bayes import GaussianNB, BernoulliNB, MultinomialNB\n",
    "# y las funciones para calcular las métricas\n",
    "from sklearn import metrics"
   ]
  },
  {
   "cell_type": "markdown",
   "metadata": {},
   "source": [
    "Se realiza el modelo con la función **fit()**, ingresando los datos y las etiquetas del training set.\n",
    "\n",
    "Se evalúa el modelo con la función **predict()**, ingresando los datos y comparando las respuestas con las etiquetas del test set.\n",
    "\n",
    "Para hallar la matriz de confusión se utiliza la función **confusion_matrix()**, ingresando las etiquetas del test set y las predichas.\n",
    "\n",
    "Para hallar otras métricas de evaluación de desempeño (precision, recall, f1-score, etc) se utiliza la función **classification_report()**, ingresando las etiquetas del test set y las predichas."
   ]
  },
  {
   "cell_type": "markdown",
   "metadata": {},
   "source": [
    "**GaussianNB**"
   ]
  },
  {
   "cell_type": "code",
   "execution_count": 6,
   "metadata": {},
   "outputs": [
    {
     "name": "stdout",
     "output_type": "stream",
     "text": [
      "GaussianNB. Número de errores de un total de 87 puntos : 4\n",
      "---Matriz de confusión---\n",
      "[[53  2]\n",
      " [ 2 30]]\n",
      "---Métricas---\n",
      "              precision    recall  f1-score   support\n",
      "\n",
      "    democrat       0.96      0.96      0.96        55\n",
      "  republican       0.94      0.94      0.94        32\n",
      "\n",
      "   micro avg       0.95      0.95      0.95        87\n",
      "   macro avg       0.95      0.95      0.95        87\n",
      "weighted avg       0.95      0.95      0.95        87\n",
      "\n"
     ]
    }
   ],
   "source": [
    "gnb = GaussianNB()\n",
    "pred_labels_G = gnb.fit(train_dataset, train_labels).predict(test_dataset)\n",
    "print(\"GaussianNB. Número de errores de un total de %d puntos : %d\" \n",
    "      % (test_dataset.shape[0],(test_labels != pred_labels_G).sum()))\n",
    "print(\"---Matriz de confusión---\")\n",
    "print(metrics.confusion_matrix(test_labels, pred_labels_G))\n",
    "print(\"---Métricas---\")\n",
    "print(metrics.classification_report(test_labels, pred_labels_G))"
   ]
  },
  {
   "cell_type": "markdown",
   "metadata": {},
   "source": [
    "Este modelo es utilizado cuando se tienen datos continuos. \n",
    "\n",
    "Podría ser notablemente útil si se define aleatoriamente los valores '?', como se explicó anteriormente."
   ]
  },
  {
   "cell_type": "markdown",
   "metadata": {},
   "source": [
    "Para graficar la ROC y obtener el AUC necesitamos hacer una breve manipulación de los datos para que estén presentados de manera binaria."
   ]
  },
  {
   "cell_type": "code",
   "execution_count": 7,
   "metadata": {},
   "outputs": [
    {
     "name": "stdout",
     "output_type": "stream",
     "text": [
      "AUC:  0.686046511627907\n"
     ]
    },
    {
     "data": {
      "image/png": "[encoded data removed]",
      "text/plain": [
       "<Figure size 432x288 with 1 Axes>"
      ]
     },
     "metadata": {
      "needs_background": "light"
     },
     "output_type": "display_data"
    }
   ],
   "source": [
    "from matplotlib import pyplot\n",
    "%matplotlib inline\n",
    "\n",
    "test_l = np.zeros(len(test_labels))\n",
    "pred_l_G = np.zeros(len(pred_labels_G))\n",
    "\n",
    "for i in range (len(pred_labels_G)):\n",
    "    if pred_labels_G[i] == 'democrat':\n",
    "        pred_l_G[i] = 1.0\n",
    "        \n",
    "for j in test_labels.index:\n",
    "    ind = 0\n",
    "    if test_labels[j] == 'democrat':\n",
    "        test_l[ind] = 1.0\n",
    "    ind = ind+1\n",
    "        \n",
    "print(\"AUC: \", metrics.roc_auc_score(test_l, pred_l_G))\n",
    "# ROC\n",
    "fpr, tpr, thresholds = metrics.roc_curve(test_l, pred_l_G)\n",
    "\n",
    "# Gráfica\n",
    "pyplot.plot([0, 1], [0, 1], linestyle='--')\n",
    "pyplot.plot(fpr, tpr, marker='.')\n",
    "pyplot.title('ROC_GaussianNB')\n",
    "pyplot.xlabel('False Positive Rate')\n",
    "pyplot.ylabel('True Positive Rate')\n",
    "pyplot.show()"
   ]
  },
  {
   "cell_type": "markdown",
   "metadata": {},
   "source": [
    "**BernoulliNB**"
   ]
  },
  {
   "cell_type": "code",
   "execution_count": 8,
   "metadata": {},
   "outputs": [
    {
     "name": "stdout",
     "output_type": "stream",
     "text": [
      "BernoulliNB. Número de errores de un total de 87 puntos : 3\n",
      "---Matriz de confusión---\n",
      "[[53  2]\n",
      " [ 1 31]]\n",
      "---Métricas---\n",
      "              precision    recall  f1-score   support\n",
      "\n",
      "    democrat       0.98      0.96      0.97        55\n",
      "  republican       0.94      0.97      0.95        32\n",
      "\n",
      "   micro avg       0.97      0.97      0.97        87\n",
      "   macro avg       0.96      0.97      0.96        87\n",
      "weighted avg       0.97      0.97      0.97        87\n",
      "\n"
     ]
    }
   ],
   "source": [
    "bnb = BernoulliNB()\n",
    "pred_labels_B = bnb.fit(train_dataset, train_labels).predict(test_dataset)\n",
    "print(\"BernoulliNB. Número de errores de un total de %d puntos : %d\" \n",
    "      % (test_dataset.shape[0],(test_labels != pred_labels_B).sum()))\n",
    "print(\"---Matriz de confusión---\")\n",
    "print(metrics.confusion_matrix(test_labels, pred_labels_B))\n",
    "print(\"---Métricas---\")\n",
    "print(metrics.classification_report(test_labels, pred_labels_B))"
   ]
  },
  {
   "cell_type": "markdown",
   "metadata": {},
   "source": [
    "Este modelo es utilizado cuando se tienen datos discretos.\n",
    "\n",
    "Este modelo discreto, generalmente se utiliza cuando los _features_ de entrada son booleanos independientes (variables binarias). Sería particularmente útil si se decide eliminar los valores '?' o si se los reemplaza con la moda, tal como se comentó anteriormente."
   ]
  },
  {
   "cell_type": "markdown",
   "metadata": {},
   "source": [
    "Para graficar la ROC y obtener el AUC necesitamos hacer una breve manipulación de los datos para que estén presentados de manera binaria."
   ]
  },
  {
   "cell_type": "code",
   "execution_count": 9,
   "metadata": {},
   "outputs": [
    {
     "name": "stdout",
     "output_type": "stream",
     "text": [
      "AUC:  0.6918604651162791\n"
     ]
    },
    {
     "data": {
      "image/png": "[encoded data removed]",
      "text/plain": [
       "<Figure size 432x288 with 1 Axes>"
      ]
     },
     "metadata": {
      "needs_background": "light"
     },
     "output_type": "display_data"
    }
   ],
   "source": [
    "pred_l_B = np.zeros(len(pred_labels_B))\n",
    "\n",
    "for i in range (len(pred_labels_B)):\n",
    "    if pred_labels_B[i] == 'democrat':\n",
    "        pred_l_B[i] = 1.0\n",
    "        \n",
    "print(\"AUC: \", metrics.roc_auc_score(test_l, pred_l_B))\n",
    "# ROC\n",
    "fpr, tpr, thresholds = metrics.roc_curve(test_l, pred_l_B)\n",
    "\n",
    "# Gráfica\n",
    "pyplot.plot([0, 1], [0, 1], linestyle='--')\n",
    "pyplot.plot(fpr, tpr, marker='.')\n",
    "pyplot.title('ROC_BernoulliNB')\n",
    "pyplot.xlabel('False Positive Rate')\n",
    "pyplot.ylabel('True Positive Rate')\n",
    "pyplot.show()"
   ]
  },
  {
   "cell_type": "markdown",
   "metadata": {},
   "source": [
    "**MultinomialNB**"
   ]
  },
  {
   "cell_type": "code",
   "execution_count": 10,
   "metadata": {},
   "outputs": [
    {
     "name": "stdout",
     "output_type": "stream",
     "text": [
      "MultinomialNB. Número de errores de un total de 87 puntos : 4\n",
      "---Matriz de confusión---\n",
      "[[52  3]\n",
      " [ 1 31]]\n",
      "---Métricas---\n",
      "              precision    recall  f1-score   support\n",
      "\n",
      "    democrat       0.98      0.95      0.96        55\n",
      "  republican       0.91      0.97      0.94        32\n",
      "\n",
      "   micro avg       0.95      0.95      0.95        87\n",
      "   macro avg       0.95      0.96      0.95        87\n",
      "weighted avg       0.96      0.95      0.95        87\n",
      "\n"
     ]
    }
   ],
   "source": [
    "mnb = MultinomialNB()\n",
    "pred_labels_M = mnb.fit(train_dataset, train_labels).predict(test_dataset)\n",
    "print(\"MultinomialNB. Número de errores de un total de %d puntos : %d\" \n",
    "      % (test_dataset.shape[0],(test_labels != pred_labels_M).sum()))\n",
    "print(\"---Matriz de confusión---\")\n",
    "print(metrics.confusion_matrix(test_labels, pred_labels_M))\n",
    "print(\"---Métricas---\")\n",
    "print(metrics.classification_report(test_labels, pred_labels_M))"
   ]
  },
  {
   "cell_type": "markdown",
   "metadata": {},
   "source": [
    "Este modelo es utilizado cuando se tienen datos discretos. \n",
    "\n",
    "Debido a que se trata de distribución multinomial (binomial), este modelo sería uno de los más recomendados a utilizar."
   ]
  },
  {
   "cell_type": "markdown",
   "metadata": {},
   "source": [
    "Para graficar la ROC y obtener el AUC necesitamos hacer una breve manipulación de los datos para que estén presentados de manera binaria."
   ]
  },
  {
   "cell_type": "code",
   "execution_count": 11,
   "metadata": {},
   "outputs": [
    {
     "name": "stdout",
     "output_type": "stream",
     "text": [
      "AUC:  0.6976744186046512\n"
     ]
    },
    {
     "data": {
      "image/png": "[encoded data removed]",
      "text/plain": [
       "<Figure size 432x288 with 1 Axes>"
      ]
     },
     "metadata": {
      "needs_background": "light"
     },
     "output_type": "display_data"
    }
   ],
   "source": [
    "pred_l_M = np.zeros(len(pred_labels_M))\n",
    "\n",
    "for i in range (len(pred_labels_M)):\n",
    "    if pred_labels_M[i] == 'democrat':\n",
    "        pred_l_M[i] = 1.0\n",
    "        \n",
    "print(\"AUC: \", metrics.roc_auc_score(test_l, pred_l_M))\n",
    "# ROC\n",
    "fpr, tpr, thresholds = metrics.roc_curve(test_l, pred_l_M)\n",
    "\n",
    "# Gráfica\n",
    "pyplot.plot([0, 1], [0, 1], linestyle='--')\n",
    "pyplot.plot(fpr, tpr, marker='.')\n",
    "pyplot.title('ROC_MultinomialNB')\n",
    "pyplot.xlabel('False Positive Rate')\n",
    "pyplot.ylabel('True Positive Rate')\n",
    "pyplot.show()"
   ]
  }
 ],
 "metadata": {
  "kernelspec": {
   "display_name": "Python 3",
   "language": "python",
   "name": "python3"
  },
  "language_info": {
   "codemirror_mode": {
    "name": "ipython",
    "version": 3
   },
   "file_extension": ".py",
   "mimetype": "text/x-python",
   "name": "python",
   "nbconvert_exporter": "python",
   "pygments_lexer": "ipython3",
   "version": "3.6.8"
  }
 },
 "nbformat": 4,
 "nbformat_minor": 2
}
